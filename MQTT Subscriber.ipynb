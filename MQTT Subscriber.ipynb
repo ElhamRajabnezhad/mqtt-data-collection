{
 "cells": [
  {
   "cell_type": "code",
   "execution_count": 2,
   "id": "a3c5208d-1d3d-4a77-9d27-d13f32c15316",
   "metadata": {},
   "outputs": [
    {
     "name": "stdout",
     "output_type": "stream",
     "text": [
      "Requirement already satisfied: paho-mqtt in c:\\users\\eli\\anaconda3\\lib\\site-packages (2.1.0)\n",
      "Requirement already satisfied: pandas in c:\\users\\eli\\anaconda3\\lib\\site-packages (2.0.3)\n",
      "Requirement already satisfied: python-dateutil>=2.8.2 in c:\\users\\eli\\anaconda3\\lib\\site-packages (from pandas) (2.8.2)\n",
      "Requirement already satisfied: pytz>=2020.1 in c:\\users\\eli\\anaconda3\\lib\\site-packages (from pandas) (2023.3.post1)\n",
      "Requirement already satisfied: tzdata>=2022.1 in c:\\users\\eli\\anaconda3\\lib\\site-packages (from pandas) (2023.3)\n",
      "Requirement already satisfied: numpy>=1.21.0 in c:\\users\\eli\\anaconda3\\lib\\site-packages (from pandas) (1.24.3)\n",
      "Requirement already satisfied: six>=1.5 in c:\\users\\eli\\anaconda3\\lib\\site-packages (from python-dateutil>=2.8.2->pandas) (1.16.0)\n",
      "Note: you may need to restart the kernel to use updated packages.\n"
     ]
    }
   ],
   "source": [
    "#pip install paho-mqtt pandas"
   ]
  },
  {
   "cell_type": "code",
   "execution_count": 1,
   "id": "2fa0ce53-ecd6-49f1-81d7-ada437fa1be5",
   "metadata": {},
   "outputs": [
    {
     "name": "stderr",
     "output_type": "stream",
     "text": [
      "C:\\Users\\Eli\\AppData\\Local\\Temp\\ipykernel_1884\\2926788564.py:56: DeprecationWarning: Callback API version 1 is deprecated, update to latest version\n",
      "  client = mqtt.Client()\n"
     ]
    },
    {
     "name": "stdout",
     "output_type": "stream",
     "text": [
      "Connected with result code 0\n",
      "Data collection completed and saved to CSV.\n"
     ]
    },
    {
     "data": {
      "text/plain": [
       "<MQTTErrorCode.MQTT_ERR_NO_CONN: 4>"
      ]
     },
     "execution_count": 1,
     "metadata": {},
     "output_type": "execute_result"
    }
   ],
   "source": [
    "import paho.mqtt.client as mqtt\n",
    "import pandas as pd\n",
    "from datetime import datetime\n",
    "import threading\n",
    "\n",
    "# Broker settings\n",
    "broker_address = \"broker.hivemq.com\"\n",
    "port = 1883\n",
    "topic_temp = \"home/temperature/GroupTest\"\n",
    "topic_humidity = \"home/humidity/GroupTest\"\n",
    "\n",
    "# Data buffer\n",
    "data_buffer = {\n",
    "    \"timestamp\": None,\n",
    "    \"temperature\": None,\n",
    "    \"humidity\": None\n",
    "}\n",
    "\n",
    "# Initialize DataFrame to store the complete data\n",
    "df = pd.DataFrame(columns=[\"timestamp\", \"temperature\", \"humidity\"])\n",
    "\n",
    "# Callback when connecting to the MQTT broker\n",
    "def on_connect(client, userdata, flags, rc):\n",
    "    print(\"Connected with result code \"+str(rc))\n",
    "    client.subscribe([(topic_temp, 0), (topic_humidity, 0)])\n",
    "\n",
    "# Callback when receiving a message from the MQTT broker\n",
    "def on_message(client, userdata, msg):\n",
    "    message = msg.payload.decode()\n",
    "    value = float(message.split(': ')[1])  # Split and convert\n",
    "\n",
    "    if msg.topic == topic_temp:\n",
    "        data_buffer['temperature'] = value\n",
    "    elif msg.topic == topic_humidity:\n",
    "        data_buffer['humidity'] = value\n",
    "\n",
    "    # Check if both temperature and humidity are received\n",
    "    if data_buffer['temperature'] is not None and data_buffer['humidity'] is not None:\n",
    "        # Record timestamp when both values are available\n",
    "        data_buffer['timestamp'] = datetime.now()\n",
    "\n",
    "        # Append the data to the DataFrame\n",
    "        df.loc[len(df)] = data_buffer\n",
    "\n",
    "        # Reset buffer\n",
    "        data_buffer['temperature'] = None\n",
    "        data_buffer['humidity'] = None\n",
    "\n",
    "def stop_collecting_data():\n",
    "    # Save the DataFrame to CSV\n",
    "    df.to_csv(\"mqtt_data.csv\", index=False)\n",
    "    print(\"Data collection completed and saved to CSV.\")\n",
    "    client.disconnect()\n",
    "\n",
    "# Setup MQTT client and hooks\n",
    "client = mqtt.Client()\n",
    "client.on_connect = on_connect\n",
    "client.on_message = on_message\n",
    "\n",
    "# Connect to the broker and start the loop\n",
    "client.connect(broker_address, port=port)\n",
    "\n",
    "# Set a timer for 600 seconds (10 minutes) to stop collecting data\n",
    "timer = threading.Timer(600, stop_collecting_data)\n",
    "timer.start()\n",
    "\n",
    "client.loop_forever()\n"
   ]
  },
  {
   "cell_type": "code",
   "execution_count": null,
   "id": "b4ce0482-0dca-4833-bcf2-689dcdca5487",
   "metadata": {},
   "outputs": [],
   "source": []
  }
 ],
 "metadata": {
  "kernelspec": {
   "display_name": "Python 3 (ipykernel)",
   "language": "python",
   "name": "python3"
  },
  "language_info": {
   "codemirror_mode": {
    "name": "ipython",
    "version": 3
   },
   "file_extension": ".py",
   "mimetype": "text/x-python",
   "name": "python",
   "nbconvert_exporter": "python",
   "pygments_lexer": "ipython3",
   "version": "3.11.5"
  }
 },
 "nbformat": 4,
 "nbformat_minor": 5
}
